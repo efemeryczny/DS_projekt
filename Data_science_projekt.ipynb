{
 "cells": [
  {
   "cell_type": "code",
   "execution_count": 1,
   "id": "b3497fce",
   "metadata": {},
   "outputs": [],
   "source": [
    "import os\n",
    "import pandas as pd\n",
    "import numpy as np\n",
    "\n",
    "import matplotlib.pyplot as plt\n",
    "import datetime as dt\n",
    "\n",
    "from sklearn.preprocessing import MinMaxScaler\n",
    "from tensorflow.keras.models import Sequential\n",
    "from tensorflow.keras.layers import Dense, Dropout, LSTM\n",
    "from tensorflow.keras.callbacks import ModelCheckpoint, EarlyStopping\n"
   ]
  },
  {
   "cell_type": "code",
   "execution_count": 2,
   "id": "84dd0d0e",
   "metadata": {},
   "outputs": [],
   "source": [
    "folder_path = 'C:\\\\Users\\\\Dominik\\\\Python\\\\DS_projekt\\\\wig20_notowania'\n",
    "\n",
    "df_list = []\n",
    "\n",
    "for file in os.listdir(folder_path):\n",
    "    if file.endswith(\".csv\"):\n",
    "        # read the CSV file into a dataframe\n",
    "        df = pd.read_csv(os.path.join(folder_path, file))\n",
    "        \n",
    "        # extract the file name and use it as the stock symbol\n",
    "        stock_symbol = file.split(\"_\")[0]\n",
    "        \n",
    "        # insert the stock symbol as a new column in the dataframe\n",
    "        df.insert(0, \"Stock\", stock_symbol)\n",
    "        \n",
    "        # add the dataframe to the list\n",
    "        df_list.append(df)\n",
    "        \n",
    "# concatenate all the dataframes into one        \n",
    "df_all = pd.concat(df_list)"
   ]
  },
  {
   "cell_type": "code",
   "execution_count": 3,
   "id": "ffa95b17",
   "metadata": {},
   "outputs": [
    {
     "data": {
      "text/html": [
       "<div>\n",
       "<style scoped>\n",
       "    .dataframe tbody tr th:only-of-type {\n",
       "        vertical-align: middle;\n",
       "    }\n",
       "\n",
       "    .dataframe tbody tr th {\n",
       "        vertical-align: top;\n",
       "    }\n",
       "\n",
       "    .dataframe thead th {\n",
       "        text-align: right;\n",
       "    }\n",
       "</style>\n",
       "<table border=\"1\" class=\"dataframe\">\n",
       "  <thead>\n",
       "    <tr style=\"text-align: right;\">\n",
       "      <th></th>\n",
       "      <th>Stock</th>\n",
       "      <th>Data</th>\n",
       "      <th>Otwarcie</th>\n",
       "      <th>Najwyzszy</th>\n",
       "      <th>Najnizszy</th>\n",
       "      <th>Zamkniecie</th>\n",
       "      <th>Wolumen</th>\n",
       "    </tr>\n",
       "  </thead>\n",
       "  <tbody>\n",
       "    <tr>\n",
       "      <th>0</th>\n",
       "      <td>acp</td>\n",
       "      <td>1998-06-02</td>\n",
       "      <td>10.1220</td>\n",
       "      <td>10.1220</td>\n",
       "      <td>10.1220</td>\n",
       "      <td>10.1220</td>\n",
       "      <td>605100.042466</td>\n",
       "    </tr>\n",
       "    <tr>\n",
       "      <th>1</th>\n",
       "      <td>acp</td>\n",
       "      <td>1998-06-03</td>\n",
       "      <td>11.1207</td>\n",
       "      <td>11.1207</td>\n",
       "      <td>11.1207</td>\n",
       "      <td>11.1207</td>\n",
       "      <td>231965.123851</td>\n",
       "    </tr>\n",
       "    <tr>\n",
       "      <th>2</th>\n",
       "      <td>acp</td>\n",
       "      <td>1998-06-04</td>\n",
       "      <td>12.1193</td>\n",
       "      <td>12.1193</td>\n",
       "      <td>12.1193</td>\n",
       "      <td>12.1193</td>\n",
       "      <td>686991.280966</td>\n",
       "    </tr>\n",
       "    <tr>\n",
       "      <th>3</th>\n",
       "      <td>acp</td>\n",
       "      <td>1998-06-05</td>\n",
       "      <td>12.2654</td>\n",
       "      <td>12.2654</td>\n",
       "      <td>12.2654</td>\n",
       "      <td>12.2654</td>\n",
       "      <td>264040.169853</td>\n",
       "    </tr>\n",
       "    <tr>\n",
       "      <th>4</th>\n",
       "      <td>acp</td>\n",
       "      <td>1998-06-08</td>\n",
       "      <td>12.2148</td>\n",
       "      <td>12.2148</td>\n",
       "      <td>12.2148</td>\n",
       "      <td>12.2148</td>\n",
       "      <td>148527.898090</td>\n",
       "    </tr>\n",
       "  </tbody>\n",
       "</table>\n",
       "</div>"
      ],
      "text/plain": [
       "  Stock        Data  Otwarcie  Najwyzszy  Najnizszy  Zamkniecie        Wolumen\n",
       "0   acp  1998-06-02   10.1220    10.1220    10.1220     10.1220  605100.042466\n",
       "1   acp  1998-06-03   11.1207    11.1207    11.1207     11.1207  231965.123851\n",
       "2   acp  1998-06-04   12.1193    12.1193    12.1193     12.1193  686991.280966\n",
       "3   acp  1998-06-05   12.2654    12.2654    12.2654     12.2654  264040.169853\n",
       "4   acp  1998-06-08   12.2148    12.2148    12.2148     12.2148  148527.898090"
      ]
     },
     "execution_count": 3,
     "metadata": {},
     "output_type": "execute_result"
    }
   ],
   "source": [
    "df_all.head()"
   ]
  },
  {
   "cell_type": "code",
   "execution_count": 4,
   "id": "b2f2e6e6",
   "metadata": {},
   "outputs": [
    {
     "name": "stdout",
     "output_type": "stream",
     "text": [
      "91808\n"
     ]
    }
   ],
   "source": [
    "number_of_rows = len(df_all)\n",
    "print(number_of_rows)\n"
   ]
  },
  {
   "cell_type": "code",
   "execution_count": 20,
   "id": "294a7c6f",
   "metadata": {},
   "outputs": [],
   "source": [
    "def load_data(company, start, end):\n",
    "    dataframe = df_all.copy()\n",
    "    dataframe = dataframe.loc[dataframe.Stock == company, :]\n",
    "    #convert the dataframe['Data'] column to datetime format before comparing it with start and end variables.\n",
    "    dataframe['Data'] = pd.to_datetime(dataframe['Data'])\n",
    "    dataframe = dataframe.loc[(dataframe['Data'] > start) & (dataframe['Data'] < end), :]\n",
    "    return dataframe\n"
   ]
  },
  {
   "cell_type": "code",
   "execution_count": 21,
   "id": "45bde519",
   "metadata": {},
   "outputs": [],
   "source": [
    "stock_symbol = 'acp'\n",
    "from_date = dt.datetime(2010,1,1)\n",
    "to_date = dt.datetime(2023,1,18)"
   ]
  },
  {
   "cell_type": "code",
   "execution_count": 22,
   "id": "0158df90",
   "metadata": {},
   "outputs": [],
   "source": [
    "data = load_data(company = stock_symbol,\n",
    "                 start = from_date,\n",
    "                 end = to_date)"
   ]
  },
  {
   "cell_type": "code",
   "execution_count": 23,
   "id": "3ea2f13c",
   "metadata": {},
   "outputs": [],
   "source": [
    "# Normalize data\n",
    "scaler = MinMaxScaler(feature_range=(0,1))\n",
    "scaled_data = scaler.fit_transform(data['Zamkniecie'].values.reshape(-1,1))"
   ]
  },
  {
   "cell_type": "code",
   "execution_count": 24,
   "id": "0e3568bb",
   "metadata": {},
   "outputs": [],
   "source": [
    "# how many days do i want to base my predictions on ?\n",
    "prediction_days = 60\n",
    "\n",
    "x_train = []\n",
    "y_train = []\n",
    "\n",
    "for x in range(prediction_days, len(scaled_data)):\n",
    "    x_train.append(scaled_data[x - prediction_days:x, 0])\n",
    "    y_train.append(scaled_data[x, 0])\n",
    "    \n",
    "x_train, y_train = np.array(x_train), np.array(y_train)\n",
    "x_train = np.reshape(x_train, (x_train.shape[0], x_train.shape[1], 1))"
   ]
  },
  {
   "cell_type": "code",
   "execution_count": 25,
   "id": "9d0dfcd8",
   "metadata": {},
   "outputs": [],
   "source": [
    "def LSTM_model():\n",
    "    \n",
    "    model = Sequential()\n",
    "    \n",
    "    model.add(LSTM(units = 50, return_sequences = True, input_shape = (x_train.shape[1],1)))\n",
    "    model.add(Dropout(0.2))\n",
    "\n",
    "    model.add(LSTM(units = 50, return_sequences = True))\n",
    "    model.add(Dropout(0.2))\n",
    "\n",
    "    model.add(LSTM(units = 50))\n",
    "    model.add(Dropout(0.2))\n",
    "    \n",
    "    model.add(Dense(units=1))\n",
    "    \n",
    "    return model"
   ]
  },
  {
   "cell_type": "code",
   "execution_count": 26,
   "id": "ddb068c2",
   "metadata": {},
   "outputs": [
    {
     "name": "stdout",
     "output_type": "stream",
     "text": [
      "Model: \"sequential\"\n",
      "_________________________________________________________________\n",
      " Layer (type)                Output Shape              Param #   \n",
      "=================================================================\n",
      " lstm (LSTM)                 (None, 60, 50)            10400     \n",
      "                                                                 \n",
      " dropout (Dropout)           (None, 60, 50)            0         \n",
      "                                                                 \n",
      " lstm_1 (LSTM)               (None, 60, 50)            20200     \n",
      "                                                                 \n",
      " dropout_1 (Dropout)         (None, 60, 50)            0         \n",
      "                                                                 \n",
      " lstm_2 (LSTM)               (None, 50)                20200     \n",
      "                                                                 \n",
      " dropout_2 (Dropout)         (None, 50)                0         \n",
      "                                                                 \n",
      " dense (Dense)               (None, 1)                 51        \n",
      "                                                                 \n",
      "=================================================================\n",
      "Total params: 50,851\n",
      "Trainable params: 50,851\n",
      "Non-trainable params: 0\n",
      "_________________________________________________________________\n"
     ]
    }
   ],
   "source": [
    "model = LSTM_model()\n",
    "model.summary()\n",
    "model.compile(optimizer='adam', \n",
    "              loss='mean_squared_error')"
   ]
  },
  {
   "cell_type": "code",
   "execution_count": 27,
   "id": "d8a7f315",
   "metadata": {},
   "outputs": [
    {
     "name": "stdout",
     "output_type": "stream",
     "text": [
      "Epoch 1/25\n",
      "101/101 [==============================] - ETA: 0s - loss: 0.0068WARNING:tensorflow:Can save best model only with val_loss available, skipping.\n",
      "101/101 [==============================] - 16s 88ms/step - loss: 0.0068\n",
      "Epoch 2/25\n",
      "101/101 [==============================] - ETA: 0s - loss: 0.0018WARNING:tensorflow:Can save best model only with val_loss available, skipping.\n",
      "101/101 [==============================] - 8s 80ms/step - loss: 0.0018\n",
      "Epoch 3/25\n",
      "101/101 [==============================] - ETA: 0s - loss: 0.0017WARNING:tensorflow:Can save best model only with val_loss available, skipping.\n",
      "101/101 [==============================] - 8s 80ms/step - loss: 0.0017\n",
      "Epoch 4/25\n",
      "101/101 [==============================] - ETA: 0s - loss: 0.0015WARNING:tensorflow:Can save best model only with val_loss available, skipping.\n",
      "101/101 [==============================] - 9s 87ms/step - loss: 0.0015\n",
      "Epoch 5/25\n",
      "101/101 [==============================] - ETA: 0s - loss: 0.0016WARNING:tensorflow:Can save best model only with val_loss available, skipping.\n",
      "101/101 [==============================] - 9s 89ms/step - loss: 0.0016\n",
      "Epoch 6/25\n",
      "101/101 [==============================] - ETA: 0s - loss: 0.0032WARNING:tensorflow:Can save best model only with val_loss available, skipping.\n",
      "101/101 [==============================] - 9s 89ms/step - loss: 0.0032\n",
      "Epoch 7/25\n",
      "101/101 [==============================] - ETA: 0s - loss: 0.0022WARNING:tensorflow:Can save best model only with val_loss available, skipping.\n",
      "101/101 [==============================] - 9s 89ms/step - loss: 0.0022\n",
      "Epoch 8/25\n",
      "101/101 [==============================] - ETA: 0s - loss: 0.0013WARNING:tensorflow:Can save best model only with val_loss available, skipping.\n",
      "101/101 [==============================] - 9s 89ms/step - loss: 0.0013\n",
      "Epoch 9/25\n",
      "101/101 [==============================] - ETA: 0s - loss: 0.0013WARNING:tensorflow:Can save best model only with val_loss available, skipping.\n",
      "101/101 [==============================] - 9s 89ms/step - loss: 0.0013\n",
      "Epoch 10/25\n",
      "101/101 [==============================] - ETA: 0s - loss: 0.0012- ETWARNING:tensorflow:Can save best model only with val_loss available, skipping.\n",
      "101/101 [==============================] - 9s 89ms/step - loss: 0.0012\n",
      "Epoch 11/25\n",
      "101/101 [==============================] - ETA: 0s - loss: 0.0010WARNING:tensorflow:Can save best model only with val_loss available, skipping.\n",
      "101/101 [==============================] - 9s 90ms/step - loss: 0.0010\n",
      "Epoch 12/25\n",
      "101/101 [==============================] - ETA: 0s - loss: 0.0011WARNING:tensorflow:Can save best model only with val_loss available, skipping.\n",
      "101/101 [==============================] - 9s 90ms/step - loss: 0.0011\n",
      "Epoch 13/25\n",
      "101/101 [==============================] - ETA: 0s - loss: 0.0010WARNING:tensorflow:Can save best model only with val_loss available, skipping.\n",
      "101/101 [==============================] - 9s 89ms/step - loss: 0.0010\n",
      "Epoch 14/25\n",
      "101/101 [==============================] - ETA: 0s - loss: 0.0013WARNING:tensorflow:Can save best model only with val_loss available, skipping.\n",
      "101/101 [==============================] - 9s 90ms/step - loss: 0.0013\n",
      "Epoch 15/25\n",
      "101/101 [==============================] - ETA: 0s - loss: 0.0011WARNING:tensorflow:Can save best model only with val_loss available, skipping.\n",
      "101/101 [==============================] - 9s 89ms/step - loss: 0.0011\n",
      "Epoch 16/25\n",
      "101/101 [==============================] - ETA: 0s - loss: 9.7818e-04WARNING:tensorflow:Can save best model only with val_loss available, skipping.\n",
      "101/101 [==============================] - 9s 89ms/step - loss: 9.7818e-04\n",
      "Epoch 17/25\n",
      "101/101 [==============================] - ETA: 0s - loss: 9.6607e-04WARNING:tensorflow:Can save best model only with val_loss available, skipping.\n",
      "101/101 [==============================] - 9s 90ms/step - loss: 9.6607e-04\n",
      "Epoch 18/25\n",
      "101/101 [==============================] - ETA: 0s - loss: 8.3991e-04WARNING:tensorflow:Can save best model only with val_loss available, skipping.\n",
      "101/101 [==============================] - 9s 89ms/step - loss: 8.3991e-04\n",
      "Epoch 19/25\n",
      "101/101 [==============================] - ETA: 0s - loss: 9.0174e-04WARNING:tensorflow:Can save best model only with val_loss available, skipping.\n",
      "101/101 [==============================] - 9s 89ms/step - loss: 9.0174e-04\n",
      "Epoch 20/25\n",
      "101/101 [==============================] - ETA: 0s - loss: 8.3436e-04WARNING:tensorflow:Can save best model only with val_loss available, skipping.\n",
      "101/101 [==============================] - 9s 89ms/step - loss: 8.3436e-04\n",
      "Epoch 21/25\n",
      "101/101 [==============================] - ETA: 0s - loss: 8.8518e-04WARNING:tensorflow:Can save best model only with val_loss available, skipping.\n",
      "101/101 [==============================] - 9s 88ms/step - loss: 8.8518e-04\n",
      "Epoch 22/25\n",
      "101/101 [==============================] - ETA: 0s - loss: 9.2101e-04WARNING:tensorflow:Can save best model only with val_loss available, skipping.\n",
      "101/101 [==============================] - 9s 89ms/step - loss: 9.2101e-04\n",
      "Epoch 23/25\n",
      "101/101 [==============================] - ETA: 0s - loss: 8.1483e-04WARNING:tensorflow:Can save best model only with val_loss available, skipping.\n",
      "101/101 [==============================] - 10s 103ms/step - loss: 8.1483e-04\n",
      "Epoch 24/25\n",
      "101/101 [==============================] - ETA: 0s - loss: 8.0827e-04WARNING:tensorflow:Can save best model only with val_loss available, skipping.\n",
      "101/101 [==============================] - 11s 106ms/step - loss: 8.0827e-04\n",
      "Epoch 25/25\n",
      "101/101 [==============================] - ETA: 0s - loss: 8.0470e-04WARNING:tensorflow:Can save best model only with val_loss available, skipping.\n",
      "101/101 [==============================] - 10s 102ms/step - loss: 8.0470e-04\n"
     ]
    },
    {
     "data": {
      "text/plain": [
       "<keras.callbacks.History at 0x27fcc6a8a30>"
      ]
     },
     "execution_count": 27,
     "metadata": {},
     "output_type": "execute_result"
    }
   ],
   "source": [
    "# Define callbacks\n",
    "\n",
    "# Save weights only for best model\n",
    "checkpointer = ModelCheckpoint(filepath = 'weights_best.hdf5', \n",
    "                               verbose = 2, \n",
    "                               save_best_only = True)\n",
    "\n",
    "model.fit(x_train, \n",
    "          y_train, \n",
    "          epochs=25, \n",
    "          batch_size = 32,\n",
    "          callbacks = [checkpointer])"
   ]
  },
  {
   "cell_type": "code",
   "execution_count": 28,
   "id": "9e758df4",
   "metadata": {},
   "outputs": [],
   "source": [
    "# test model accuracy on existing data\n",
    "test_data = load_data(company = stock_symbol,\n",
    "                 start = from_date,\n",
    "                 end = dt.datetime.now())\n",
    "\n",
    "actual_prices = test_data['Zamkniecie'].values\n",
    "\n",
    "total_dataset = pd.concat((data['Zamkniecie'], test_data['Zamkniecie']), axis=0)\n",
    "\n",
    "model_inputs = total_dataset[len(total_dataset) - len(test_data) - prediction_days:].values\n",
    "model_inputs = model_inputs.reshape(-1,1)\n",
    "model_inputs = scaler.transform(model_inputs)"
   ]
  },
  {
   "cell_type": "code",
   "execution_count": 29,
   "id": "7be7de34",
   "metadata": {},
   "outputs": [],
   "source": [
    "x_test = []\n",
    "for x in range(prediction_days, len(model_inputs)):\n",
    "    x_test.append(model_inputs[x-prediction_days:x, 0])\n",
    "\n",
    "x_test = np.array(x_test)\n",
    "x_test = np.reshape(x_test, (x_test.shape[0], x_test.shape[1] ,1))\n",
    "\n",
    "predicted_prices = model.predict(x_test)\n",
    "predicted_prices = scaler.inverse_transform(predicted_prices)"
   ]
  },
  {
   "cell_type": "code",
   "execution_count": 30,
   "id": "2ea94383",
   "metadata": {},
   "outputs": [
    {
     "data": {
      "image/png": "[encoded data removed]",
      "text/plain": [
       "<Figure size 432x288 with 1 Axes>"
      ]
     },
     "metadata": {
      "needs_background": "light"
     },
     "output_type": "display_data"
    }
   ],
   "source": [
    "plt.plot(actual_prices, color='black', label=f\"Actual {stock_symbol} price\")\n",
    "plt.plot(predicted_prices, color= 'green', label=f\"predicted {stock_symbol} price\")\n",
    "plt.title(f\"{stock_symbol} share price\")\n",
    "plt.xlabel(\"time\")\n",
    "plt.ylabel(f\"{stock_symbol} share price\")\n",
    "plt.legend()\n",
    "plt.show()"
   ]
  }
 ],
 "metadata": {
  "kernelspec": {
   "display_name": "Python 3",
   "language": "python",
   "name": "python3"
  },
  "language_info": {
   "codemirror_mode": {
    "name": "ipython",
    "version": 3
   },
   "file_extension": ".py",
   "mimetype": "text/x-python",
   "name": "python",
   "nbconvert_exporter": "python",
   "pygments_lexer": "ipython3",
   "version": "3.8.8"
  }
 },
 "nbformat": 4,
 "nbformat_minor": 5
}
